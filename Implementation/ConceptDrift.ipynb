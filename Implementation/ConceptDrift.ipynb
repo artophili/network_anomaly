{
 "cells": [
  {
   "cell_type": "code",
   "execution_count": 46,
   "id": "34df48bb",
   "metadata": {},
   "outputs": [
    {
     "data": {
      "text/plain": [
       "' \\nFirst we will simulate drift by splitting the data over time.\\nThen we will train it on early parts and test it on future parts\\nThen we will monitor performance using partial fitting and learning and calibration curves'"
      ]
     },
     "execution_count": 46,
     "metadata": {},
     "output_type": "execute_result"
    }
   ],
   "source": [
    "''' \n",
    "What is Concept drift:\n",
    "When we train the model on old data then our model learned how the attacks looked in last month\n",
    "But what if attackers changed their behaviour.\n",
    "Here model will keep guessing the old way and our performance will drop'''\n",
    "\n",
    "''' \n",
    "First we will simulate drift by splitting the data over time.\n",
    "Then we will train it on early parts and test it on future parts\n",
    "Then we will monitor performance using partial fitting and learning and calibration curves'''"
   ]
  },
  {
   "cell_type": "code",
   "execution_count": 47,
   "id": "231bfe9a",
   "metadata": {},
   "outputs": [],
   "source": [
    "#Importing libraries\n",
    "import pandas as pd\n",
    "import numpy as np\n",
    "import xgboost as xgb\n",
    "from sklearn.ensemble import AdaBoostClassifier\n",
    "from sklearn.model_selection import train_test_split\n",
    "from sklearn.metrics import balanced_accuracy_score, roc_auc_score, make_scorer\n",
    "from sklearn.model_selection import GridSearchCV\n",
    "from sklearn.metrics import confusion_matrix"
   ]
  },
  {
   "cell_type": "code",
   "execution_count": 48,
   "id": "7b583424",
   "metadata": {},
   "outputs": [],
   "source": [
    "#Load & Preprocess UNSW-NB15_4 Dataset\n",
    "df = pd.read_csv('C:/Users/Artophilic/Datascience Bootcamp/Network_research/Dataset/UNSW-NB15_4.csv')"
   ]
  },
  {
   "cell_type": "code",
   "execution_count": 49,
   "id": "d885bd40",
   "metadata": {},
   "outputs": [
    {
     "data": {
      "text/html": [
       "<div>\n",
       "<style scoped>\n",
       "    .dataframe tbody tr th:only-of-type {\n",
       "        vertical-align: middle;\n",
       "    }\n",
       "\n",
       "    .dataframe tbody tr th {\n",
       "        vertical-align: top;\n",
       "    }\n",
       "\n",
       "    .dataframe thead th {\n",
       "        text-align: right;\n",
       "    }\n",
       "</style>\n",
       "<table border=\"1\" class=\"dataframe\">\n",
       "  <thead>\n",
       "    <tr style=\"text-align: right;\">\n",
       "      <th></th>\n",
       "      <th>id</th>\n",
       "      <th>dur</th>\n",
       "      <th>proto</th>\n",
       "      <th>service</th>\n",
       "      <th>state</th>\n",
       "      <th>spkts</th>\n",
       "      <th>dpkts</th>\n",
       "      <th>sbytes</th>\n",
       "      <th>dbytes</th>\n",
       "      <th>rate</th>\n",
       "      <th>...</th>\n",
       "      <th>ct_dst_sport_ltm</th>\n",
       "      <th>ct_dst_src_ltm</th>\n",
       "      <th>is_ftp_login</th>\n",
       "      <th>ct_ftp_cmd</th>\n",
       "      <th>ct_flw_http_mthd</th>\n",
       "      <th>ct_src_ltm</th>\n",
       "      <th>ct_srv_dst</th>\n",
       "      <th>is_sm_ips_ports</th>\n",
       "      <th>attack_cat</th>\n",
       "      <th>label</th>\n",
       "    </tr>\n",
       "  </thead>\n",
       "  <tbody>\n",
       "    <tr>\n",
       "      <th>0</th>\n",
       "      <td>1</td>\n",
       "      <td>0.121478</td>\n",
       "      <td>tcp</td>\n",
       "      <td>-</td>\n",
       "      <td>FIN</td>\n",
       "      <td>6</td>\n",
       "      <td>4</td>\n",
       "      <td>258</td>\n",
       "      <td>172</td>\n",
       "      <td>74.087490</td>\n",
       "      <td>...</td>\n",
       "      <td>1</td>\n",
       "      <td>1</td>\n",
       "      <td>0</td>\n",
       "      <td>0</td>\n",
       "      <td>0</td>\n",
       "      <td>1</td>\n",
       "      <td>1</td>\n",
       "      <td>0</td>\n",
       "      <td>Normal</td>\n",
       "      <td>0</td>\n",
       "    </tr>\n",
       "    <tr>\n",
       "      <th>1</th>\n",
       "      <td>2</td>\n",
       "      <td>0.649902</td>\n",
       "      <td>tcp</td>\n",
       "      <td>-</td>\n",
       "      <td>FIN</td>\n",
       "      <td>14</td>\n",
       "      <td>38</td>\n",
       "      <td>734</td>\n",
       "      <td>42014</td>\n",
       "      <td>78.473372</td>\n",
       "      <td>...</td>\n",
       "      <td>1</td>\n",
       "      <td>2</td>\n",
       "      <td>0</td>\n",
       "      <td>0</td>\n",
       "      <td>0</td>\n",
       "      <td>1</td>\n",
       "      <td>6</td>\n",
       "      <td>0</td>\n",
       "      <td>Normal</td>\n",
       "      <td>0</td>\n",
       "    </tr>\n",
       "    <tr>\n",
       "      <th>2</th>\n",
       "      <td>3</td>\n",
       "      <td>1.623129</td>\n",
       "      <td>tcp</td>\n",
       "      <td>-</td>\n",
       "      <td>FIN</td>\n",
       "      <td>8</td>\n",
       "      <td>16</td>\n",
       "      <td>364</td>\n",
       "      <td>13186</td>\n",
       "      <td>14.170161</td>\n",
       "      <td>...</td>\n",
       "      <td>1</td>\n",
       "      <td>3</td>\n",
       "      <td>0</td>\n",
       "      <td>0</td>\n",
       "      <td>0</td>\n",
       "      <td>2</td>\n",
       "      <td>6</td>\n",
       "      <td>0</td>\n",
       "      <td>Normal</td>\n",
       "      <td>0</td>\n",
       "    </tr>\n",
       "    <tr>\n",
       "      <th>3</th>\n",
       "      <td>4</td>\n",
       "      <td>1.681642</td>\n",
       "      <td>tcp</td>\n",
       "      <td>ftp</td>\n",
       "      <td>FIN</td>\n",
       "      <td>12</td>\n",
       "      <td>12</td>\n",
       "      <td>628</td>\n",
       "      <td>770</td>\n",
       "      <td>13.677108</td>\n",
       "      <td>...</td>\n",
       "      <td>1</td>\n",
       "      <td>3</td>\n",
       "      <td>1</td>\n",
       "      <td>1</td>\n",
       "      <td>0</td>\n",
       "      <td>2</td>\n",
       "      <td>1</td>\n",
       "      <td>0</td>\n",
       "      <td>Normal</td>\n",
       "      <td>0</td>\n",
       "    </tr>\n",
       "    <tr>\n",
       "      <th>4</th>\n",
       "      <td>5</td>\n",
       "      <td>0.449454</td>\n",
       "      <td>tcp</td>\n",
       "      <td>-</td>\n",
       "      <td>FIN</td>\n",
       "      <td>10</td>\n",
       "      <td>6</td>\n",
       "      <td>534</td>\n",
       "      <td>268</td>\n",
       "      <td>33.373826</td>\n",
       "      <td>...</td>\n",
       "      <td>1</td>\n",
       "      <td>40</td>\n",
       "      <td>0</td>\n",
       "      <td>0</td>\n",
       "      <td>0</td>\n",
       "      <td>2</td>\n",
       "      <td>39</td>\n",
       "      <td>0</td>\n",
       "      <td>Normal</td>\n",
       "      <td>0</td>\n",
       "    </tr>\n",
       "  </tbody>\n",
       "</table>\n",
       "<p>5 rows × 45 columns</p>\n",
       "</div>"
      ],
      "text/plain": [
       "   id       dur proto service state  spkts  dpkts  sbytes  dbytes       rate  \\\n",
       "0   1  0.121478   tcp       -   FIN      6      4     258     172  74.087490   \n",
       "1   2  0.649902   tcp       -   FIN     14     38     734   42014  78.473372   \n",
       "2   3  1.623129   tcp       -   FIN      8     16     364   13186  14.170161   \n",
       "3   4  1.681642   tcp     ftp   FIN     12     12     628     770  13.677108   \n",
       "4   5  0.449454   tcp       -   FIN     10      6     534     268  33.373826   \n",
       "\n",
       "   ...  ct_dst_sport_ltm  ct_dst_src_ltm  is_ftp_login  ct_ftp_cmd  \\\n",
       "0  ...                 1               1             0           0   \n",
       "1  ...                 1               2             0           0   \n",
       "2  ...                 1               3             0           0   \n",
       "3  ...                 1               3             1           1   \n",
       "4  ...                 1              40             0           0   \n",
       "\n",
       "   ct_flw_http_mthd  ct_src_ltm  ct_srv_dst  is_sm_ips_ports  attack_cat  \\\n",
       "0                 0           1           1                0      Normal   \n",
       "1                 0           1           6                0      Normal   \n",
       "2                 0           2           6                0      Normal   \n",
       "3                 0           2           1                0      Normal   \n",
       "4                 0           2          39                0      Normal   \n",
       "\n",
       "   label  \n",
       "0      0  \n",
       "1      0  \n",
       "2      0  \n",
       "3      0  \n",
       "4      0  \n",
       "\n",
       "[5 rows x 45 columns]"
      ]
     },
     "execution_count": 49,
     "metadata": {},
     "output_type": "execute_result"
    }
   ],
   "source": [
    "df.head()"
   ]
  },
  {
   "cell_type": "code",
   "execution_count": 50,
   "id": "1934f58b",
   "metadata": {},
   "outputs": [],
   "source": [
    "df = df.drop(columns=[\"proto\",\"service\",\"state\",\"attack_cat\"])"
   ]
  },
  {
   "cell_type": "code",
   "execution_count": 51,
   "id": "8cb914ec",
   "metadata": {},
   "outputs": [],
   "source": [
    "df = df.drop(columns=[\"id\"])"
   ]
  },
  {
   "cell_type": "code",
   "execution_count": 52,
   "id": "6f3deb5b",
   "metadata": {},
   "outputs": [
    {
     "data": {
      "text/plain": [
       "dur                  0\n",
       "spkts                0\n",
       "dpkts                0\n",
       "sbytes               0\n",
       "dbytes               0\n",
       "rate                 0\n",
       "sttl                 0\n",
       "dttl                 0\n",
       "sload                0\n",
       "dload                0\n",
       "sloss                0\n",
       "dloss                0\n",
       "sinpkt               0\n",
       "dinpkt               0\n",
       "sjit                 0\n",
       "djit                 0\n",
       "swin                 0\n",
       "stcpb                0\n",
       "dtcpb                0\n",
       "dwin                 0\n",
       "tcprtt               0\n",
       "synack               0\n",
       "ackdat               0\n",
       "smean                0\n",
       "dmean                0\n",
       "trans_depth          0\n",
       "response_body_len    0\n",
       "ct_srv_src           0\n",
       "ct_state_ttl         0\n",
       "ct_dst_ltm           0\n",
       "ct_src_dport_ltm     0\n",
       "ct_dst_sport_ltm     0\n",
       "ct_dst_src_ltm       0\n",
       "is_ftp_login         0\n",
       "ct_ftp_cmd           0\n",
       "ct_flw_http_mthd     0\n",
       "ct_src_ltm           0\n",
       "ct_srv_dst           0\n",
       "is_sm_ips_ports      0\n",
       "label                0\n",
       "dtype: int64"
      ]
     },
     "execution_count": 52,
     "metadata": {},
     "output_type": "execute_result"
    }
   ],
   "source": [
    "df.isnull().sum()"
   ]
  },
  {
   "cell_type": "code",
   "execution_count": 53,
   "id": "88354431",
   "metadata": {},
   "outputs": [
    {
     "data": {
      "text/plain": [
       "0    0\n",
       "1    0\n",
       "2    0\n",
       "3    0\n",
       "4    0\n",
       "Name: label, dtype: int64"
      ]
     },
     "execution_count": 53,
     "metadata": {},
     "output_type": "execute_result"
    }
   ],
   "source": [
    "#Splitting the data into independent and dependent data\n",
    "X = df.drop(columns=['label']).copy()\n",
    "X.head()\n",
    "y = df['label'].copy()\n",
    "y.head()"
   ]
  },
  {
   "cell_type": "code",
   "execution_count": 54,
   "id": "0de69f46",
   "metadata": {},
   "outputs": [],
   "source": [
    "#Splitting the data into train and test\n",
    "X_train, X_test, y_train, y_test = train_test_split(X,y,random_state=42,stratify=y)"
   ]
  },
  {
   "cell_type": "code",
   "execution_count": 55,
   "id": "1ef84247",
   "metadata": {},
   "outputs": [],
   "source": [
    "# Convert to binary labels: 1 for normal, -1 for anomaly\n",
    "y = y.replace({0: 1, 1: -1})"
   ]
  },
  {
   "cell_type": "code",
   "execution_count": 56,
   "id": "f50d9b09",
   "metadata": {},
   "outputs": [],
   "source": [
    "#Standardizing the data\n",
    "from sklearn.preprocessing import StandardScaler\n",
    "scaler = StandardScaler()\n",
    "X_train = scaler.fit_transform(X_train)\n",
    "X_test = scaler.transform(X_test)"
   ]
  },
  {
   "cell_type": "code",
   "execution_count": 57,
   "id": "8bf25d8d",
   "metadata": {},
   "outputs": [],
   "source": [
    "from sklearn.preprocessing import KBinsDiscretizer\n",
    "\n",
    "# Use KBinsDiscretizer to bin continuous values\n",
    "binner = KBinsDiscretizer(n_bins=2, encode='ordinal', strategy='uniform')  # or 'quantile'\n",
    "X_train_bin = binner.fit_transform(X_train)\n",
    "X_test_bin = binner.transform(X_test)\n",
    "\n",
    "X_train_bin = X_train_bin.astype(int)\n",
    "X_test_bin = X_test_bin.astype(int)"
   ]
  },
  {
   "cell_type": "code",
   "execution_count": 58,
   "id": "421c5c77",
   "metadata": {},
   "outputs": [],
   "source": [
    "import numpy as np\n",
    "from sklearn.linear_model import SGDClassifier\n",
    "from sklearn.metrics import accuracy_score, classification_report"
   ]
  },
  {
   "cell_type": "code",
   "execution_count": 59,
   "id": "3225f5c7",
   "metadata": {},
   "outputs": [],
   "source": [
    "# Split into 3 segments to simulate time drift\n",
    "split1 = int(0.3 * len(X_train_bin))\n",
    "split2 = int(0.6 * len(X_train_bin))"
   ]
  },
  {
   "cell_type": "code",
   "execution_count": 60,
   "id": "16fe68ae",
   "metadata": {},
   "outputs": [
    {
     "data": {
      "text/plain": [
       "39451"
      ]
     },
     "execution_count": 60,
     "metadata": {},
     "output_type": "execute_result"
    }
   ],
   "source": [
    "split1"
   ]
  },
  {
   "cell_type": "code",
   "execution_count": 61,
   "id": "be5c2de1",
   "metadata": {},
   "outputs": [
    {
     "data": {
      "text/plain": [
       "78903"
      ]
     },
     "execution_count": 61,
     "metadata": {},
     "output_type": "execute_result"
    }
   ],
   "source": [
    "split2"
   ]
  },
  {
   "cell_type": "code",
   "execution_count": 62,
   "id": "4687fcae",
   "metadata": {},
   "outputs": [],
   "source": [
    "X_t1, y_t1 = X_train_bin[:split1], y_train.values[:split1]\n",
    "X_t2, y_t2 = X_train_bin[split1:split2], y_train.values[split1:split2]\n",
    "X_t3, y_t3 = X_train_bin[split2:], y_train.values[split2:]"
   ]
  },
  {
   "cell_type": "code",
   "execution_count": 63,
   "id": "6e7bc0d8",
   "metadata": {},
   "outputs": [],
   "source": [
    "import numpy as np\n",
    "from sklearn.linear_model import SGDClassifier\n",
    "from sklearn.metrics import accuracy_score, classification_report"
   ]
  },
  {
   "cell_type": "code",
   "execution_count": 64,
   "id": "ec4952a7",
   "metadata": {},
   "outputs": [],
   "source": [
    "# Model\n",
    "model = SGDClassifier(loss='log_loss', max_iter=1, warm_start=True, random_state=42)"
   ]
  },
  {
   "cell_type": "code",
   "execution_count": 65,
   "id": "114842e6",
   "metadata": {},
   "outputs": [
    {
     "data": {
      "text/plain": [
       "array([0, 1])"
      ]
     },
     "execution_count": 65,
     "metadata": {},
     "output_type": "execute_result"
    }
   ],
   "source": [
    "# Classes for partial_fit\n",
    "classes = np.unique(y_train)\n",
    "classes"
   ]
  },
  {
   "cell_type": "code",
   "execution_count": 66,
   "id": "e16302f2",
   "metadata": {},
   "outputs": [
    {
     "name": "stdout",
     "output_type": "stream",
     "text": [
      "Initial training done (T1)\n",
      "\n",
      "Performance on T2 before update:\n",
      "              precision    recall  f1-score   support\n",
      "\n",
      "           0       0.78      0.82      0.80     12528\n",
      "           1       0.91      0.89      0.90     26924\n",
      "\n",
      "    accuracy                           0.87     39452\n",
      "   macro avg       0.85      0.86      0.85     39452\n",
      "weighted avg       0.87      0.87      0.87     39452\n",
      "\n",
      "\n",
      "Performance on T3 before update:\n",
      "              precision    recall  f1-score   support\n",
      "\n",
      "           0       0.78      0.81      0.80     16834\n",
      "           1       0.91      0.90      0.90     35768\n",
      "\n",
      "    accuracy                           0.87     52602\n",
      "   macro avg       0.85      0.85      0.85     52602\n",
      "weighted avg       0.87      0.87      0.87     52602\n",
      "\n",
      "\n",
      "Performance on T3 after update:\n",
      "              precision    recall  f1-score   support\n",
      "\n",
      "           0       0.78      0.81      0.80     16834\n",
      "           1       0.91      0.90      0.90     35768\n",
      "\n",
      "    accuracy                           0.87     52602\n",
      "   macro avg       0.85      0.85      0.85     52602\n",
      "weighted avg       0.87      0.87      0.87     52602\n",
      "\n"
     ]
    }
   ],
   "source": [
    "# Training on old (T1)\n",
    "model.partial_fit(X_t1, y_t1, classes=classes)\n",
    "print(\"Initial training done (T1)\")\n",
    "\n",
    "# Evaluating on future chunks before adaptation\n",
    "pred_t2 = model.predict(X_t2)\n",
    "print(\"\\nPerformance on T2 before update:\")\n",
    "print(classification_report(y_t2, pred_t2))\n",
    "\n",
    "pred_t3 = model.predict(X_t3)\n",
    "print(\"\\nPerformance on T3 before update:\")\n",
    "print(classification_report(y_t3, pred_t3))\n",
    "\n",
    "# Adapting using T2 (simulate online update)\n",
    "model.partial_fit(X_t2, y_t2)\n",
    "\n",
    "# Evaluate again after adaptation\n",
    "pred_t3_updated = model.predict(X_t3)\n",
    "print(\"\\nPerformance on T3 after update:\")\n",
    "print(classification_report(y_t3, pred_t3_updated))"
   ]
  },
  {
   "cell_type": "markdown",
   "id": "2c5966c6",
   "metadata": {},
   "source": [
    "SHAP (SHapley Additive exPlanations) explains how much each feature contributes to a model’s decision"
   ]
  },
  {
   "cell_type": "code",
   "execution_count": 67,
   "id": "e55b3747",
   "metadata": {},
   "outputs": [],
   "source": [
    "import shap"
   ]
  },
  {
   "cell_type": "code",
   "execution_count": 68,
   "id": "34ffcdad",
   "metadata": {},
   "outputs": [],
   "source": [
    "#Setting up the shap explainer for the SGDClassifier\n",
    "#As SGDClassifier is a linear, we will use SHAP's LinearExplainer"
   ]
  },
  {
   "cell_type": "code",
   "execution_count": 69,
   "id": "f550d743",
   "metadata": {},
   "outputs": [],
   "source": [
    "# Picking a sample of test data for SHAP\n",
    "X_sample = X_test_bin[:100]"
   ]
  },
  {
   "cell_type": "code",
   "execution_count": 70,
   "id": "00cbc721",
   "metadata": {},
   "outputs": [
    {
     "name": "stderr",
     "output_type": "stream",
     "text": [
      "c:\\Users\\Artophilic\\anaconda3\\envs\\netvenv\\Lib\\site-packages\\shap\\explainers\\_linear.py:99: FutureWarning: The feature_perturbation option is now deprecated in favor of using the appropriate masker (maskers.Independent, maskers.Partition or maskers.Impute).\n",
      "  warnings.warn(wmsg, FutureWarning)\n"
     ]
    }
   ],
   "source": [
    "# Creating SHAP explainer\n",
    "explainer = shap.LinearExplainer(model, X_train_bin, feature_perturbation=\"interventional\", feature_names=df.columns)"
   ]
  },
  {
   "cell_type": "code",
   "execution_count": 71,
   "id": "d677ca97",
   "metadata": {},
   "outputs": [],
   "source": [
    "# Computing SHAP values for test samples\n",
    "shap_values = explainer.shap_values(X_sample)"
   ]
  },
  {
   "cell_type": "code",
   "execution_count": 72,
   "id": "5ecd9b2c",
   "metadata": {},
   "outputs": [
    {
     "data": {
      "text/plain": [
       "array([[-0.02525746,  0.        ,  0.        , ..., -0.01437517,\n",
       "         0.00704394,  0.10544683],\n",
       "       [-0.02525746,  0.        ,  0.        , ..., -0.01437517,\n",
       "         0.00704394,  0.10544683],\n",
       "       [-0.02525746,  0.        ,  0.        , ..., -0.01437517,\n",
       "         0.00704394,  0.10544683],\n",
       "       ...,\n",
       "       [-0.02525746,  0.        ,  0.        , ..., -0.01437517,\n",
       "         0.00704394,  0.10544683],\n",
       "       [-0.02525746,  0.        ,  0.        , ..., -0.01437517,\n",
       "         0.00704394,  0.10544683],\n",
       "       [-0.02525746,  0.        ,  0.        , ..., -0.01437517,\n",
       "         0.00704394,  0.10544683]], shape=(100, 39))"
      ]
     },
     "execution_count": 72,
     "metadata": {},
     "output_type": "execute_result"
    }
   ],
   "source": [
    "shap_values"
   ]
  },
  {
   "cell_type": "code",
   "execution_count": 73,
   "id": "4469db63",
   "metadata": {},
   "outputs": [
    {
     "data": {
      "image/png": "[encoded data removed]",
      "text/plain": [
       "<Figure size 800x950 with 1 Axes>"
      ]
     },
     "metadata": {},
     "output_type": "display_data"
    }
   ],
   "source": [
    "# Plotting mean absolute SHAP value for each feature\n",
    "shap.summary_plot(shap_values, X_sample, plot_type=\"bar\", feature_names=df.columns)"
   ]
  },
  {
   "cell_type": "code",
   "execution_count": 74,
   "id": "3fb55ad1",
   "metadata": {},
   "outputs": [
    {
     "data": {
      "image/png": "[encoded data removed]",
      "text/plain": [
       "<Figure size 800x950 with 2 Axes>"
      ]
     },
     "metadata": {},
     "output_type": "display_data"
    }
   ],
   "source": [
    "# Beeswarm plot to show how each feature pushes prediction toward normal/anomaly\n",
    "shap.summary_plot(shap_values, X_sample, feature_names=df.columns)"
   ]
  },
  {
   "cell_type": "code",
   "execution_count": 75,
   "id": "486ed38b",
   "metadata": {},
   "outputs": [
    {
     "data": {
      "text/html": [
       "\n",
       "<div id='iYRTNB299Z05T6DN4SIP1'>\n",
       "<div style='color: #900; text-align: center;'>\n",
       "  <b>Visualization omitted, Javascript library not loaded!</b><br>\n",
       "  Have you run `initjs()` in this notebook? If this notebook was from another\n",
       "  user you must also trust this notebook (File -> Trust notebook). If you are viewing\n",
       "  this notebook on github the Javascript has been stripped for security. If you are using\n",
       "  JupyterLab this error is because a JupyterLab extension has not yet been written.\n",
       "</div></div>\n",
       " <script>\n",
       "   if (window.SHAP) SHAP.ReactDom.render(\n",
       "    SHAP.React.createElement(SHAP.AdditiveForceVisualizer, {\"outNames\": [\"f(x)\"], \"baseValue\": -0.6821653355513857, \"outValue\": 1.7902728560064265, \"link\": \"identity\", \"featureNames\": [0.0, 0.0, 0.0, 0.0, 0.0, 0.0, 1.0, 0.0, 0.0, 0.0, 0.0, 0.0, 0.0, 0.0, 0.0, 0.0, 0.0, 0.0, 0.0, 0.0, 0.0, 0.0, 0.0, 0.0, 0.0, 0.0, 0.0, 0.0, 0.0, 0.0, 0.0, 0.0, 0.0, 0.0, 0.0, 0.0, 0.0, 0.0, 0.0], \"features\": {\"0\": {\"effect\": -0.025257455989098912, \"value\": \"\"}, \"6\": {\"effect\": 0.9713865480480957, \"value\": \"\"}, \"7\": {\"effect\": -1.8865067494991394, \"value\": \"\"}, \"9\": {\"effect\": 0.04091679136404891, \"value\": \"\"}, \"12\": {\"effect\": 0.06311927493058814, \"value\": \"\"}, \"15\": {\"effect\": -5.37878923012048e-05, \"value\": \"\"}, \"16\": {\"effect\": 1.941043500117566, \"value\": \"\"}, \"17\": {\"effect\": 0.09394874098567244, \"value\": \"\"}, \"18\": {\"effect\": 0.15402288367458516, \"value\": \"\"}, \"19\": {\"effect\": 1.139643489441225, \"value\": \"\"}, \"23\": {\"effect\": -0.0009563903352349281, \"value\": \"\"}, \"24\": {\"effect\": -0.13725558330151214, \"value\": \"\"}, \"27\": {\"effect\": -0.015758909722579578, \"value\": \"\"}, \"28\": {\"effect\": 0.013588396542991446, \"value\": \"\"}, \"29\": {\"effect\": -0.03017306310295574, \"value\": \"\"}, \"30\": {\"effect\": -0.03853785248472413, \"value\": \"\"}, \"31\": {\"effect\": 0.024661595863943644, \"value\": \"\"}, \"32\": {\"effect\": 0.06649116620892633, \"value\": \"\"}, \"36\": {\"effect\": -0.014375170169677211, \"value\": \"\"}, \"37\": {\"effect\": 0.007043938830974244, \"value\": \"\"}, \"38\": {\"effect\": 0.10544682804641899, \"value\": \"\"}}, \"plot_cmap\": \"RdBu\", \"labelMargin\": 20}),\n",
       "    document.getElementById('iYRTNB299Z05T6DN4SIP1')\n",
       "  );\n",
       "</script>"
      ],
      "text/plain": [
       "<shap.plots._force.AdditiveForceVisualizer at 0x23e90f56960>"
      ]
     },
     "execution_count": 75,
     "metadata": {},
     "output_type": "execute_result"
    }
   ],
   "source": [
    "shap.force_plot(\n",
    "    explainer.expected_value, \n",
    "    shap_values[0], \n",
    "    X_sample[0].astype(float)  # Make sure it's float, not np.int64\n",
    ")"
   ]
  },
  {
   "cell_type": "code",
   "execution_count": null,
   "id": "e96f8c6a",
   "metadata": {},
   "outputs": [],
   "source": []
  }
 ],
 "metadata": {
  "kernelspec": {
   "display_name": "netvenv",
   "language": "python",
   "name": "python3"
  },
  "language_info": {
   "codemirror_mode": {
    "name": "ipython",
    "version": 3
   },
   "file_extension": ".py",
   "mimetype": "text/x-python",
   "name": "python",
   "nbconvert_exporter": "python",
   "pygments_lexer": "ipython3",
   "version": "3.12.0"
  }
 },
 "nbformat": 4,
 "nbformat_minor": 5
}
